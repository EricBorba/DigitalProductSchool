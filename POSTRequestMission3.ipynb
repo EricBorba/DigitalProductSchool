{
 "cells": [
  {
   "cell_type": "code",
   "execution_count": 3,
   "metadata": {},
   "outputs": [
    {
     "name": "stdout",
     "output_type": "stream",
     "text": [
      "Request successfully sent!\n",
      "{\"message\":\"Congratulations! Achieved Mission 3\"}\n"
     ]
    }
   ],
   "source": [
    "import requests\n",
    "import json\n",
    "\n",
    "# Define the URL to send the POST request\n",
    "url = \"https://dps-challenge.netlify.app/.netlify/functions/api/challenge\"\n",
    "\n",
    "# Prepare the data to be sent in the POST request\n",
    "data = {\n",
    "    \"github\": \"https://github.com/EricBorba/DigitalProductSchool\",  # Replace with your GitHub repo URL\n",
    "    \"email\": \"eric.borba@gmail.com\",  # Replace with your email\n",
    "    \"url\": \"https://accidentpredictor-605a1c9c3f85.herokuapp.com/predict\",  # Replace with your deployed app URL\n",
    "    \"notes\": \"To test the deployed Accident Predictor app, simply run the script in testingEndPoint.py. By executing this script, you will be able to send requests to the deployed application and use the accident prediction functionality.\"  # Optional\n",
    "}\n",
    "\n",
    "# Send the POST request with JSON data\n",
    "response = requests.post(url, json=data)\n",
    "\n",
    "# Check if the request was successful\n",
    "if response.status_code == 200:\n",
    "    print(\"Request successfully sent!\")\n",
    "    print(response.text)\n",
    "else:\n",
    "    print(f\"Failed to send request. Status code: {response.status_code}\")\n",
    "    print(response.text)\n"
   ]
  }
 ],
 "metadata": {
  "kernelspec": {
   "display_name": "Python 3.9.6 64-bit",
   "language": "python",
   "name": "python3"
  },
  "language_info": {
   "codemirror_mode": {
    "name": "ipython",
    "version": 3
   },
   "file_extension": ".py",
   "mimetype": "text/x-python",
   "name": "python",
   "nbconvert_exporter": "python",
   "pygments_lexer": "ipython3",
   "version": "3.9.6"
  },
  "orig_nbformat": 4,
  "vscode": {
   "interpreter": {
    "hash": "31f2aee4e71d21fbe5cf8b01ff0e069b9275f58929596ceb00d14d90e3e16cd6"
   }
  }
 },
 "nbformat": 4,
 "nbformat_minor": 2
}
