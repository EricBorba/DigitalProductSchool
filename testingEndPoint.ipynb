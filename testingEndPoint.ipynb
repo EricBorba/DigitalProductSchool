{
 "cells": [
  {
   "cell_type": "code",
   "execution_count": 7,
   "metadata": {},
   "outputs": [
    {
     "name": "stdout",
     "output_type": "stream",
     "text": [
      "200 {'prediction': 33.31}\n"
     ]
    }
   ],
   "source": [
    "import requests\n",
    "\n",
    "url = \"https://accidentpredictor-605a1c9c3f85.herokuapp.com/predict\"\n",
    "payload = {\n",
    "    \"year\": 2020,\n",
    "    \"month\": 10,\n",
    "    \"category\": \"Alkoholunfälle\",\n",
    "    \"type\": \"insgesamt\"\n",
    "}\n",
    "\n",
    "headers = {\"Content-Type\": \"application/json\"}\n",
    "response = requests.post(url, json=payload, headers=headers)\n",
    "\n",
    "print(response.status_code, response.json())\n"
   ]
  },
  {
   "cell_type": "code",
   "execution_count": 2,
   "metadata": {},
   "outputs": [
    {
     "name": "stdout",
     "output_type": "stream",
     "text": [
      "503\n",
      "<!DOCTYPE html>\n",
      "\t<html>\n",
      "\t  <head>\n",
      "\t\t<meta name=\"viewport\" content=\"width=device-width, initial-scale=1\">\n",
      "\t\t<meta charset=\"utf-8\">\n",
      "\t\t<title>Application Error</title>\n",
      "\t\t<style media=\"screen\">\n",
      "\t\t  html,body,iframe {\n",
      "\t\t\tmargin: 0;\n",
      "\t\t\tpadding: 0;\n",
      "\t\t  }\n",
      "\t\t  html,body {\n",
      "\t\t\theight: 100%;\n",
      "\t\t\toverflow: hidden;\n",
      "\t\t  }\n",
      "\t\t  iframe {\n",
      "\t\t\twidth: 100%;\n",
      "\t\t\theight: 100%;\n",
      "\t\t\tborder: 0;\n",
      "\t\t  }\n",
      "\t\t</style>\n",
      "\t  </head>\n",
      "\t  <body>\n",
      "\t\t<iframe src=\"//www.herokucdn.com/error-pages/application-error.html\"></iframe>\n",
      "\t  </body>\n",
      "\t</html>\n"
     ]
    }
   ],
   "source": [
    "response = requests.post(url, json=payload, headers=headers)\n",
    "print(response.status_code)\n",
    "print(response.text)  # Print raw response from the server\n"
   ]
  }
 ],
 "metadata": {
  "kernelspec": {
   "display_name": "Python 3.9.6 64-bit",
   "language": "python",
   "name": "python3"
  },
  "language_info": {
   "codemirror_mode": {
    "name": "ipython",
    "version": 3
   },
   "file_extension": ".py",
   "mimetype": "text/x-python",
   "name": "python",
   "nbconvert_exporter": "python",
   "pygments_lexer": "ipython3",
   "version": "3.9.6"
  },
  "orig_nbformat": 4,
  "vscode": {
   "interpreter": {
    "hash": "31f2aee4e71d21fbe5cf8b01ff0e069b9275f58929596ceb00d14d90e3e16cd6"
   }
  }
 },
 "nbformat": 4,
 "nbformat_minor": 2
}
