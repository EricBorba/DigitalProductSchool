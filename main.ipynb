{
 "cells": [
  {
   "cell_type": "code",
   "execution_count": null,
   "metadata": {},
   "outputs": [],
   "source": [
    "# Load the uploaded CSV file to inspect the data structure and identify potential issues\n",
    "\n",
    "# Import necessary libraries\n",
    "import pandas as pd\n",
    "import numpy as np\n",
    "import matplotlib.pyplot as plt\n",
    "import seaborn as sns\n",
    "\n",
    "# Load the data\n",
    "file_path = 'monatszahlen2405_verkehrsunfaelle_export_31_05_24_r.csv'\n",
    "data = pd.read_csv(file_path)\n",
    "\n",
    "# Display basic information and the first few rows of the data\n",
    "data_info = data.info()\n",
    "data_head = data.head()\n",
    "data_unique_months = data['MONAT'].unique()  # Check unique values in 'MONAT' column\n",
    "\n",
    "data_info, data_head, data_unique_months\n"
   ]
  },
  {
   "cell_type": "code",
   "execution_count": null,
   "metadata": {},
   "outputs": [],
   "source": [
    "# Extracting year and month correctly from 'MONAT' and creating a new 'Date' column\n",
    "data['Year'] = data['MONAT'].str[:4]  # Extract year from the first four characters\n",
    "data['Month'] = data['MONAT'].str[4:]  # Extract month from the remaining characters\n",
    "\n",
    "# Convert 'Year' and 'Month' to datetime\n",
    "data['Date'] = pd.to_datetime(data['Year'] + '-' + data['Month'], format='%Y-%m', errors='coerce')\n",
    "\n",
    "# Check for any invalid dates\n",
    "invalid_dates = data[data['Date'].isna()]  # Identify any rows that couldn't be converted\n",
    "\n",
    "# Display head of the corrected data and invalid dates if any\n",
    "data_corrected_head = data.head()\n",
    "invalid_dates_count = invalid_dates.shape[0]\n",
    "\n",
    "data_corrected_head, invalid_dates_count, invalid_dates.head()  # Display results\n"
   ]
  },
  {
   "cell_type": "code",
   "execution_count": null,
   "metadata": {},
   "outputs": [],
   "source": [
    "# Filter out rows with invalid 'Date' values (those where conversion to datetime failed)\n",
    "cleaned_data = data[data['Date'].notna()]\n",
    "\n",
    "# Verify the data cleaning step\n",
    "cleaned_data_head = cleaned_data.head()\n",
    "cleaned_data_summary = cleaned_data.describe()\n",
    "\n",
    "# Display the cleaned data and summary statistics\n",
    "cleaned_data_head, cleaned_data_summary\n"
   ]
  }
 ],
 "metadata": {
  "kernelspec": {
   "display_name": "Python 3.9.6 64-bit",
   "language": "python",
   "name": "python3"
  },
  "language_info": {
   "codemirror_mode": {
    "name": "ipython",
    "version": 3
   },
   "file_extension": ".py",
   "mimetype": "text/x-python",
   "name": "python",
   "nbconvert_exporter": "python",
   "pygments_lexer": "ipython3",
   "version": "3.9.6"
  },
  "orig_nbformat": 4,
  "vscode": {
   "interpreter": {
    "hash": "31f2aee4e71d21fbe5cf8b01ff0e069b9275f58929596ceb00d14d90e3e16cd6"
   }
  }
 },
 "nbformat": 4,
 "nbformat_minor": 2
}
